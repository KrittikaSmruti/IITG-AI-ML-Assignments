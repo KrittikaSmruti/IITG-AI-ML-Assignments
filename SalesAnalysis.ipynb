{
  "metadata": {
    "kernelspec": {
      "name": "python",
      "display_name": "Python (Pyodide)",
      "language": "python"
    },
    "language_info": {
      "codemirror_mode": {
        "name": "python",
        "version": 3
      },
      "file_extension": ".py",
      "mimetype": "text/x-python",
      "name": "python",
      "nbconvert_exporter": "python",
      "pygments_lexer": "ipython3",
      "version": "3.8"
    }
  },
  "nbformat_minor": 5,
  "nbformat": 4,
  "cells": [
    {
      "id": "ce402577-07f8-4dd4-ad2c-d303f5a9659f",
      "cell_type": "code",
      "source": "# Import libraries\nimport pandas as pd\nimport numpy as np\n\n# Load the dataset\ndf = pd.read_csv(\"AusApparalSales4thQrt2020.csv\")\n\n# Inspect the data\nprint(df.head())\nprint(df.info())\n\n# Check for missing values\nprint(\"Missing values:\\n\", df.isna().sum())\n\n# Convert Date to datetime format\ndf['Date'] = pd.to_datetime(df['Date'], dayfirst=True)\n\n# Normalize 'Sales' and 'Unit' columns using Min-Max Normalization\ndef normalize(col):\n    return (col - col.min()) / (col.max() - col.min())\n\ndf['Sales_Norm'] = normalize(df['Sales'])\ndf['Unit_Norm'] = normalize(df['Unit'])\n",
      "metadata": {
        "trusted": true
      },
      "outputs": [
        {
          "name": "stdout",
          "output_type": "stream",
          "text": "         Date        Time State     Group  Unit  Sales\n0  1-Oct-2020     Morning    WA      Kids     8  20000\n1  1-Oct-2020     Morning    WA       Men     8  20000\n2  1-Oct-2020     Morning    WA     Women     4  10000\n3  1-Oct-2020     Morning    WA   Seniors    15  37500\n4  1-Oct-2020   Afternoon    WA      Kids     3   7500\n<class 'pandas.core.frame.DataFrame'>\nRangeIndex: 7560 entries, 0 to 7559\nData columns (total 6 columns):\n #   Column  Non-Null Count  Dtype \n---  ------  --------------  ----- \n 0   Date    7560 non-null   object\n 1   Time    7560 non-null   object\n 2   State   7560 non-null   object\n 3   Group   7560 non-null   object\n 4   Unit    7560 non-null   int64 \n 5   Sales   7560 non-null   int64 \ndtypes: int64(2), object(4)\nmemory usage: 236.3+ KB\nNone\nMissing values:\n Date     0\nTime     0\nState    0\nGroup    0\nUnit     0\nSales    0\ndtype: int64\n"
        }
      ],
      "execution_count": 1
    },
    {
      "id": "a2cbe9e3-3f43-4aa7-a12f-b15a78ff2251",
      "cell_type": "code",
      "source": "# Descriptive statistics\nprint(\"Descriptive stats for Sales and Unit:\")\nprint(df[['Sales', 'Unit']].describe())",
      "metadata": {
        "trusted": true
      },
      "outputs": [
        {
          "name": "stdout",
          "output_type": "stream",
          "text": "Descriptive stats for Sales and Unit:\n               Sales         Unit\ncount    7560.000000  7560.000000\nmean    45013.558201    18.005423\nstd     32253.506944    12.901403\nmin      5000.000000     2.000000\n25%     20000.000000     8.000000\n50%     35000.000000    14.000000\n75%     65000.000000    26.000000\nmax    162500.000000    65.000000\n"
        }
      ],
      "execution_count": 2
    },
    {
      "id": "32a6a4c7-6c73-4f17-9020-c056b1b36382",
      "cell_type": "code",
      "source": "# Group-wise sales\ngroup_sales = df.groupby('Group')['Sales'].sum().sort_values(ascending=False)\nprint(\"Sales by Group:\\n\", group_sales)\n\n# State-wise sales\nstate_sales = df.groupby('State')['Sales'].sum().sort_values(ascending=False)\nprint(\"Sales by State:\\n\", state_sales)",
      "metadata": {
        "trusted": true
      },
      "outputs": [
        {
          "name": "stdout",
          "output_type": "stream",
          "text": "Sales by Group:\n Group\nMen        85750000\nWomen      85442500\nKids       85072500\nSeniors    84037500\nName: Sales, dtype: int64\nSales by State:\n State\nVIC    105565000\nNSW     74970000\nSA      58857500\nQLD     33417500\nTAS     22760000\nNT      22580000\nWA      22152500\nName: Sales, dtype: int64\n"
        }
      ],
      "execution_count": 3
    },
    {
      "id": "5d515851-6f5c-48b6-8013-6d01470562e5",
      "cell_type": "code",
      "source": "# Create additional time-based columns\ndf['Week'] = df['Date'].dt.isocalendar().week\ndf['Month'] = df['Date'].dt.month\ndf['Quarter'] = df['Date'].dt.quarter\n\n# Aggregated reports\nweekly_report = df.groupby('Week')['Sales'].sum()\nmonthly_report = df.groupby('Month')['Sales'].sum()\nquarterly_report = df.groupby('Quarter')['Sales'].sum()\n\nprint(\"Weekly Sales:\\n\", weekly_report)\nprint(\"Monthly Sales:\\n\", monthly_report)\nprint(\"Quarterly Sales:\\n\", quarterly_report)",
      "metadata": {
        "trusted": true
      },
      "outputs": [
        {
          "name": "stdout",
          "output_type": "stream",
          "text": "Weekly Sales:\n Week\n40    15045000\n41    27002500\n42    26640000\n43    26815000\n44    21807500\n45    20865000\n46    21172500\n47    21112500\n48    21477500\n49    29622500\n50    31525000\n51    31655000\n52    31770000\n53    13792500\nName: Sales, dtype: int64\nMonthly Sales:\n Month\n10    114290000\n11     90682500\n12    135330000\nName: Sales, dtype: int64\nQuarterly Sales:\n Quarter\n4    340302500\nName: Sales, dtype: int64\n"
        }
      ],
      "execution_count": 4
    },
    {
      "id": "e5adc2e9-87dc-4d0d-8fce-8c5d02d23721",
      "cell_type": "code",
      "source": "## Data visualization\nimport seaborn as sns\nimport matplotlib.pyplot as plt\nsns.set(style=\"whitegrid\")",
      "metadata": {
        "trusted": true
      },
      "outputs": [],
      "execution_count": null
    },
    {
      "id": "88ca739d-32bd-422b-9af6-4d83535af445",
      "cell_type": "code",
      "source": "# State-wise\nplt.figure(figsize=(10,6))\nsns.barplot(data=df, x='State', y='Sales', hue='Group', estimator=sum)\nplt.title('State-wise Sales by Group')\nplt.xticks(rotation=45)\nplt.tight_layout()\nplt.show()",
      "metadata": {
        "trusted": true
      },
      "outputs": [],
      "execution_count": null
    },
    {
      "id": "fa8a9dee-ebfa-4046-9ac0-f6a79ad0e832",
      "cell_type": "code",
      "source": "plt.figure(figsize=(10,6))\nsns.barplot(data=df, x='Group', y='Sales', hue='State', estimator=sum)\nplt.title('Group-wise Sales by State')\nplt.xticks(rotation=45)\nplt.tight_layout()\nplt.show()",
      "metadata": {
        "trusted": true
      },
      "outputs": [],
      "execution_count": null
    },
    {
      "id": "8c01bacd-89e2-45d1-9161-4b1e7bf95596",
      "cell_type": "code",
      "source": "plt.figure(figsize=(8,5))\nsns.boxplot(data=df, x='Time', y='Sales')\nplt.title('Sales Distribution by Time of Day')\nplt.show()",
      "metadata": {
        "trusted": true
      },
      "outputs": [],
      "execution_count": null
    },
    {
      "id": "9e6eddd3-8598-455e-8b04-b3e86c33ce3d",
      "cell_type": "code",
      "source": "daily_sales = df.groupby('Date')['Sales'].sum().reset_index()\n\nplt.figure(figsize=(12,5))\nplt.plot(daily_sales['Date'], daily_sales['Sales'], marker='o')\nplt.title('Daily Sales Trend')\nplt.xlabel('Date')\nplt.ylabel('Sales')\nplt.grid(True)\nplt.tight_layout()\nplt.show()",
      "metadata": {
        "trusted": true
      },
      "outputs": [],
      "execution_count": null
    },
    {
      "id": "9ab5ec8b-17c4-4c14-a7c2-c5e57eb5b436",
      "cell_type": "code",
      "source": "fig, axes = plt.subplots(1, 2, figsize=(14,5))\n\nsns.barplot(x=weekly_report.index, y=weekly_report.values, ax=axes[0])\naxes[0].set_title('Weekly Sales')\naxes[0].set_xlabel('Week')\naxes[0].set_ylabel('Sales')\n\nsns.barplot(x=monthly_report.index, y=monthly_report.values, ax=axes[1])\naxes[1].set_title('Monthly Sales')\naxes[1].set_xlabel('Month')\naxes[1].set_ylabel('Sales')\n\nplt.tight_layout()\nplt.show()",
      "metadata": {
        "trusted": true
      },
      "outputs": [],
      "execution_count": null
    },
    {
      "id": "b6eb8953-6e7e-4de1-a8f7-953eee851ad6",
      "cell_type": "code",
      "source": "# Boxplot for descriptive stats\nplt.figure(figsize=(6,4))\nsns.boxplot(data=df[['Sales', 'Unit']])\nplt.title('Boxplot for Sales and Units')\nplt.show()\n\n# Distribution plot for Sales\nplt.figure(figsize=(6,4))\nsns.histplot(df['Sales'], kde=True)\nplt.title('Sales Distribution')\nplt.show()",
      "metadata": {
        "trusted": true
      },
      "outputs": [],
      "execution_count": null
    },
    {
      "id": "417ab52d-e390-4dc3-a3de-3c3824deef27",
      "cell_type": "code",
      "source": "# Step 2: Data Analysis\n\n# Descriptive statistics for Sales and Unit\ndescriptive_stats = df[['Sales', 'Unit']].describe()\n\n# Group-wise sales analysis\ngroup_sales = df.groupby('Group')['Sales'].sum().sort_values(ascending=False)\n\n# State-wise sales analysis\nstate_sales = df.groupby('State')['Sales'].sum().sort_values(ascending=False)\n\n# Add time-based features\ndf['Week'] = df['Date'].dt.isocalendar().week\ndf['Month'] = df['Date'].dt.month\ndf['Quarter'] = df['Date'].dt.quarter\n\n# Weekly, monthly, and quarterly summaries\nweekly_report = df.groupby('Week')['Sales'].sum()\nmonthly_report = df.groupby('Month')['Sales'].sum()\nquarterly_report = df.groupby('Quarter')['Sales'].sum()\n\ndescriptive_stats, group_sales, state_sales, weekly_report, monthly_report, quarterly_report\n",
      "metadata": {
        "trusted": true
      },
      "outputs": [
        {
          "execution_count": 7,
          "output_type": "execute_result",
          "data": {
            "text/plain": "(               Sales         Unit\n count    7560.000000  7560.000000\n mean    45013.558201    18.005423\n std     32253.506944    12.901403\n min      5000.000000     2.000000\n 25%     20000.000000     8.000000\n 50%     35000.000000    14.000000\n 75%     65000.000000    26.000000\n max    162500.000000    65.000000,\n Group\n Men        85750000\n Women      85442500\n Kids       85072500\n Seniors    84037500\n Name: Sales, dtype: int64,\n State\n VIC    105565000\n NSW     74970000\n SA      58857500\n QLD     33417500\n TAS     22760000\n NT      22580000\n WA      22152500\n Name: Sales, dtype: int64,\n Week\n 40    15045000\n 41    27002500\n 42    26640000\n 43    26815000\n 44    21807500\n 45    20865000\n 46    21172500\n 47    21112500\n 48    21477500\n 49    29622500\n 50    31525000\n 51    31655000\n 52    31770000\n 53    13792500\n Name: Sales, dtype: int64,\n Month\n 10    114290000\n 11     90682500\n 12    135330000\n Name: Sales, dtype: int64,\n Quarter\n 4    340302500\n Name: Sales, dtype: int64)"
          },
          "metadata": {}
        }
      ],
      "execution_count": 7
    },
    {
      "id": "cdfaf736-bb06-4193-b828-f9f2364cb75d",
      "cell_type": "code",
      "source": "",
      "metadata": {
        "trusted": true
      },
      "outputs": [],
      "execution_count": null
    }
  ]
}