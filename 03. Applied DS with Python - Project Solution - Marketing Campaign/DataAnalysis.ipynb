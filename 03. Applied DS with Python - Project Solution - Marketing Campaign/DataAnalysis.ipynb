{
  "metadata": {
    "kernelspec": {
      "name": "python",
      "display_name": "Python (Pyodide)",
      "language": "python"
    },
    "language_info": {
      "codemirror_mode": {
        "name": "python",
        "version": 3
      },
      "file_extension": ".py",
      "mimetype": "text/x-python",
      "name": "python",
      "nbconvert_exporter": "python",
      "pygments_lexer": "ipython3",
      "version": "3.8"
    }
  },
  "nbformat_minor": 5,
  "nbformat": 4,
  "cells": [
    {
      "id": "9e31fab4-c86e-428e-80e5-69207210762c",
      "cell_type": "markdown",
      "source": "## Marketing Campaign - Project Objectives :\n\n* Perform EDA – Check and clean data (especially Dt_Customer and Income).\n* Handle Missing Values – Impute missing income values based on Education and Marital_Status.\n* Feature Engineering – Create:\n    - Total children\n    - Age (from birth year)\n    - Total spending (sum of product purchases)\n    - Total purchases (sum across channels)\n* Visualization – Boxplots, histograms, heatmaps, etc.\n* Encoding – Use ordinal and one-hot encoding where appropriate.\n* Hypothesis Testing – Test 4 hypotheses about customer behavior.\n* Insights via Visualization – Product performance, campaign acceptance, regional differences, etc.",
      "metadata": {}
    },
    {
      "id": "32966d69-c2bb-4c76-811f-39a4a9012f9d",
      "cell_type": "code",
      "source": "import pandas as pd\n\n# Load the marketing data CSV file\nfile_path = \"../Assignment 03 - MktgCmpgn/data/marketing_data.csv\"\ndf = pd.read_csv(file_path)\n\n# Display basic information and the first few rows\ndf_info = df.info()\ndf_head = df.head()\n\ndf_info, df_head\n",
      "metadata": {
        "trusted": true
      },
      "outputs": [
        {
          "name": "stdout",
          "output_type": "stream",
          "text": "<class 'pandas.core.frame.DataFrame'>\nRangeIndex: 2240 entries, 0 to 2239\nData columns (total 28 columns):\n #   Column               Non-Null Count  Dtype \n---  ------               --------------  ----- \n 0   ID                   2240 non-null   int64 \n 1   Year_Birth           2240 non-null   int64 \n 2   Education            2240 non-null   object\n 3   Marital_Status       2240 non-null   object\n 4    Income              2216 non-null   object\n 5   Kidhome              2240 non-null   int64 \n 6   Teenhome             2240 non-null   int64 \n 7   Dt_Customer          2240 non-null   object\n 8   Recency              2240 non-null   int64 \n 9   MntWines             2240 non-null   int64 \n 10  MntFruits            2240 non-null   int64 \n 11  MntMeatProducts      2240 non-null   int64 \n 12  MntFishProducts      2240 non-null   int64 \n 13  MntSweetProducts     2240 non-null   int64 \n 14  MntGoldProds         2240 non-null   int64 \n 15  NumDealsPurchases    2240 non-null   int64 \n 16  NumWebPurchases      2240 non-null   int64 \n 17  NumCatalogPurchases  2240 non-null   int64 \n 18  NumStorePurchases    2240 non-null   int64 \n 19  NumWebVisitsMonth    2240 non-null   int64 \n 20  AcceptedCmp3         2240 non-null   int64 \n 21  AcceptedCmp4         2240 non-null   int64 \n 22  AcceptedCmp5         2240 non-null   int64 \n 23  AcceptedCmp1         2240 non-null   int64 \n 24  AcceptedCmp2         2240 non-null   int64 \n 25  Response             2240 non-null   int64 \n 26  Complain             2240 non-null   int64 \n 27  Country              2240 non-null   object\ndtypes: int64(23), object(5)\nmemory usage: 446.3+ KB\n"
        },
        {
          "execution_count": 14,
          "output_type": "execute_result",
          "data": {
            "text/plain": "(None,\n       ID  Year_Birth   Education Marital_Status      Income   Kidhome  \\\n 0   1826        1970  Graduation       Divorced  $84,835.00         0   \n 1      1        1961  Graduation         Single  $57,091.00         0   \n 2  10476        1958  Graduation        Married  $67,267.00         0   \n 3   1386        1967  Graduation       Together  $32,474.00         1   \n 4   5371        1989  Graduation         Single  $21,474.00         1   \n \n    Teenhome Dt_Customer  Recency  MntWines  ...  NumStorePurchases  \\\n 0         0     6/16/14        0       189  ...                  6   \n 1         0     6/15/14        0       464  ...                  7   \n 2         1     5/13/14        0       134  ...                  5   \n 3         1     5/11/14        0        10  ...                  2   \n 4         0      4/8/14        0         6  ...                  2   \n \n    NumWebVisitsMonth  AcceptedCmp3  AcceptedCmp4  AcceptedCmp5  AcceptedCmp1  \\\n 0                  1             0             0             0             0   \n 1                  5             0             0             0             0   \n 2                  2             0             0             0             0   \n 3                  7             0             0             0             0   \n 4                  7             1             0             0             0   \n \n    AcceptedCmp2  Response  Complain  Country  \n 0             0         1         0       SP  \n 1             1         1         0       CA  \n 2             0         0         0       US  \n 3             0         0         0      AUS  \n 4             0         1         0       SP  \n \n [5 rows x 28 columns])"
          },
          "metadata": {}
        }
      ],
      "execution_count": 14
    },
    {
      "id": "6b580741-aec0-4d14-8440-e048f097eed2",
      "cell_type": "code",
      "source": "# Display basic information and the first few rows\ndf_info = df.info()\ndf_head = df.head()\n\ndf_info, df_head\n",
      "metadata": {
        "trusted": true
      },
      "outputs": [
        {
          "name": "stdout",
          "output_type": "stream",
          "text": "<class 'pandas.core.frame.DataFrame'>\nRangeIndex: 2240 entries, 0 to 2239\nData columns (total 28 columns):\n #   Column               Non-Null Count  Dtype \n---  ------               --------------  ----- \n 0   ID                   2240 non-null   int64 \n 1   Year_Birth           2240 non-null   int64 \n 2   Education            2240 non-null   object\n 3   Marital_Status       2240 non-null   object\n 4    Income              2216 non-null   object\n 5   Kidhome              2240 non-null   int64 \n 6   Teenhome             2240 non-null   int64 \n 7   Dt_Customer          2240 non-null   object\n 8   Recency              2240 non-null   int64 \n 9   MntWines             2240 non-null   int64 \n 10  MntFruits            2240 non-null   int64 \n 11  MntMeatProducts      2240 non-null   int64 \n 12  MntFishProducts      2240 non-null   int64 \n 13  MntSweetProducts     2240 non-null   int64 \n 14  MntGoldProds         2240 non-null   int64 \n 15  NumDealsPurchases    2240 non-null   int64 \n 16  NumWebPurchases      2240 non-null   int64 \n 17  NumCatalogPurchases  2240 non-null   int64 \n 18  NumStorePurchases    2240 non-null   int64 \n 19  NumWebVisitsMonth    2240 non-null   int64 \n 20  AcceptedCmp3         2240 non-null   int64 \n 21  AcceptedCmp4         2240 non-null   int64 \n 22  AcceptedCmp5         2240 non-null   int64 \n 23  AcceptedCmp1         2240 non-null   int64 \n 24  AcceptedCmp2         2240 non-null   int64 \n 25  Response             2240 non-null   int64 \n 26  Complain             2240 non-null   int64 \n 27  Country              2240 non-null   object\ndtypes: int64(23), object(5)\nmemory usage: 446.3+ KB\n"
        },
        {
          "execution_count": 15,
          "output_type": "execute_result",
          "data": {
            "text/plain": "(None,\n       ID  Year_Birth   Education Marital_Status      Income   Kidhome  \\\n 0   1826        1970  Graduation       Divorced  $84,835.00         0   \n 1      1        1961  Graduation         Single  $57,091.00         0   \n 2  10476        1958  Graduation        Married  $67,267.00         0   \n 3   1386        1967  Graduation       Together  $32,474.00         1   \n 4   5371        1989  Graduation         Single  $21,474.00         1   \n \n    Teenhome Dt_Customer  Recency  MntWines  ...  NumStorePurchases  \\\n 0         0     6/16/14        0       189  ...                  6   \n 1         0     6/15/14        0       464  ...                  7   \n 2         1     5/13/14        0       134  ...                  5   \n 3         1     5/11/14        0        10  ...                  2   \n 4         0      4/8/14        0         6  ...                  2   \n \n    NumWebVisitsMonth  AcceptedCmp3  AcceptedCmp4  AcceptedCmp5  AcceptedCmp1  \\\n 0                  1             0             0             0             0   \n 1                  5             0             0             0             0   \n 2                  2             0             0             0             0   \n 3                  7             0             0             0             0   \n 4                  7             1             0             0             0   \n \n    AcceptedCmp2  Response  Complain  Country  \n 0             0         1         0       SP  \n 1             1         1         0       CA  \n 2             0         0         0       US  \n 3             0         0         0      AUS  \n 4             0         1         0       SP  \n \n [5 rows x 28 columns])"
          },
          "metadata": {}
        }
      ],
      "execution_count": 15
    },
    {
      "id": "b54bcddd-500d-4262-9655-6b7b1837af3e",
      "cell_type": "code",
      "source": "# Strip leading/trailing spaces from column names\ndf.columns = df.columns.str.strip()\n\n# Clean 'Income' column\ndf['Income'] = df['Income'].replace('[\\$,]', '', regex=True).astype(float)\n\n# Convert 'Dt_Customer' to datetime\ndf['Dt_Customer'] = pd.to_datetime(df['Dt_Customer'], format=\"%m/%d/%y\")\n\n# Feature engineering\ndf['Age'] = 2025 - df['Year_Birth']\ndf['Total_Children'] = df['Kidhome'] + df['Teenhome']\ndf['Total_Spending'] = df[['MntWines', 'MntFruits', 'MntMeatProducts', \n                           'MntFishProducts', 'MntSweetProducts', 'MntGoldProds']].sum(axis=1)\ndf['Total_Purchases'] = df[['NumWebPurchases', 'NumCatalogPurchases', 'NumStorePurchases']].sum(axis=1)\n\n# Summarize new features and investigate missing income\nsummary = df[['Age', 'Total_Children', 'Total_Spending', 'Total_Purchases']].describe()\nnull_income = df[df['Income'].isnull()][['Education', 'Marital_Status']].value_counts().reset_index(name='Count')\n\nsummary, null_income.head()",
      "metadata": {
        "trusted": true
      },
      "outputs": [
        {
          "name": "stderr",
          "output_type": "stream",
          "text": "<unknown>:5: SyntaxWarning: invalid escape sequence '\\$'\n<>:5: SyntaxWarning: invalid escape sequence '\\$'\n<>:5: SyntaxWarning: invalid escape sequence '\\$'\n<ipython-input-16-312d22c1018e>:5: SyntaxWarning: invalid escape sequence '\\$'\n  df['Income'] = df['Income'].replace('[\\$,]', '', regex=True).astype(float)\n"
        },
        {
          "execution_count": 16,
          "output_type": "execute_result",
          "data": {
            "text/plain": "(               Age  Total_Children  Total_Spending  Total_Purchases\n count  2240.000000     2240.000000     2240.000000      2240.000000\n mean     56.194196        0.950446      605.798214        12.537054\n std      11.984069        0.751803      602.249288         7.205741\n min      29.000000        0.000000        5.000000         0.000000\n 25%      48.000000        0.000000       68.750000         6.000000\n 50%      55.000000        1.000000      396.000000        12.000000\n 75%      66.000000        1.000000     1045.500000        18.000000\n max     132.000000        3.000000     2525.000000        32.000000,\n     Education Marital_Status  Count\n 0  Graduation         Single      6\n 1  Graduation        Married      4\n 2      Master       Together      4\n 3         PhD        Married      2\n 4         PhD         Single      2)"
          },
          "metadata": {}
        }
      ],
      "execution_count": 16
    },
    {
      "id": "5dcdcd8b-bdc5-4e42-ba7f-61ef06ff1d0a",
      "cell_type": "code",
      "source": "# Compute mean income by Education and Marital_Status\nincome_means = df.groupby(['Education', 'Marital_Status'])['Income'].mean()\n\n# Function to apply imputation\ndef impute_income(row):\n    if pd.isnull(row['Income']):\n        return income_means.loc[(row['Education'], row['Marital_Status'])]\n    return row['Income']\n\n# Apply the function to impute missing income values\ndf['Income'] = df.apply(impute_income, axis=1)\n\n# Confirm all income values are filled\nmissing_income_count = df['Income'].isnull().sum()\nmissing_income_count",
      "metadata": {
        "trusted": true
      },
      "outputs": [],
      "execution_count": null
    },
    {
      "id": "3b03a2dc-4e18-4699-89c0-dfd3977f6f12",
      "cell_type": "code",
      "source": "# Re-import libraries and reload data after environment reset\nimport pandas as pd\nimport matplotlib.pyplot as plt\nimport seaborn as sns\n\n# Set styles\nsns.set(style=\"whitegrid\")\n\n# Reload the dataset\nfile_path = \"../Assignment 03 - MktgCmpgn/data/marketing_data.csv\"\ndf = pd.read_csv(file_path)\n\n# Clean column names\ndf.columns = df.columns.str.strip()\n\n# Clean Income\ndf['Income'] = df['Income'].replace('[\\$,]', '', regex=True).astype(float)\n\n# Convert date column\ndf['Dt_Customer'] = pd.to_datetime(df['Dt_Customer'], format=\"%m/%d/%y\")\n\n# Feature engineering\ndf['Age'] = 2025 - df['Year_Birth']\ndf['Total_Children'] = df['Kidhome'] + df['Teenhome']\ndf['Total_Spending'] = df[['MntWines', 'MntFruits', 'MntMeatProducts', \n                           'MntFishProducts', 'MntSweetProducts', 'MntGoldProds']].sum(axis=1)\ndf['Total_Purchases'] = df[['NumWebPurchases', 'NumCatalogPurchases', 'NumStorePurchases']].sum(axis=1)\n\n# Impute missing income\nincome_means = df.groupby(['Education', 'Marital_Status'])['Income'].mean()\ndf['Income'] = df.apply(\n    lambda row: income_means.loc[(row['Education'], row['Marital_Status'])] if pd.isnull(row['Income']) else row['Income'], axis=1\n)\n\n# Select numerical features\nnum_features = ['Income', 'Age', 'Total_Spending', 'Total_Purchases']\n\n# Create box plots and histograms\nfig, axes = plt.subplots(nrows=4, ncols=2, figsize=(14, 16))\n\nfor i, feature in enumerate(num_features):\n    # Boxplot\n    sns.boxplot(x=df[feature], ax=axes[i, 0], color='skyblue')\n    axes[i, 0].set_title(f'Boxplot of {feature}')\n\n    # Histogram\n    sns.histplot(df[feature], kde=True, ax=axes[i, 1], color='salmon', bins=30)\n    axes[i, 1].set_title(f'Histogram of {feature}')\n\nplt.tight_layout()\nplt.show()",
      "metadata": {
        "trusted": true
      },
      "outputs": [],
      "execution_count": null
    },
    {
      "id": "b6be68ac-3cf6-4115-bb8e-401875ab157c",
      "cell_type": "code",
      "source": "# Function to cap outliers using IQR method\ndef cap_outliers(series):\n    Q1 = series.quantile(0.25)\n    Q3 = series.quantile(0.75)\n    IQR = Q3 - Q1\n    lower_bound = Q1 - 1.5 * IQR\n    upper_bound = Q3 + 1.5 * IQR\n    return series.clip(lower=lower_bound, upper=upper_bound)\n\n# Apply capping to selected numerical features\nfor feature in ['Income', 'Age', 'Total_Spending', 'Total_Purchases']:\n    df[feature] = cap_outliers(df[feature])\n\n# Re-plot after outlier treatment\nfig, axes = plt.subplots(nrows=4, ncols=2, figsize=(14, 16))\n\nfor i, feature in enumerate(['Income', 'Age', 'Total_Spending', 'Total_Purchases']):\n    sns.boxplot(x=df[feature], ax=axes[i, 0], color='lightgreen')\n    axes[i, 0].set_title(f'Boxplot of {feature} (Post-Outlier Treatment)')\n\n    sns.histplot(df[feature], kde=True, ax=axes[i, 1], color='tomato', bins=30)\n    axes[i, 1].set_title(f'Histogram of {feature} (Post-Outlier Treatment)')\n\nplt.tight_layout()\nplt.show()",
      "metadata": {
        "trusted": true
      },
      "outputs": [],
      "execution_count": null
    },
    {
      "id": "9335e074-943d-4a41-b6be-f670dff65526",
      "cell_type": "code",
      "source": "from sklearn.preprocessing import OrdinalEncoder\n\n# Identify categorical columns\ncategorical_cols = df.select_dtypes(include='object').columns.tolist()\n\n# Display all unique values for these columns to decide encoding types\ncat_values = {col: df[col].unique().tolist() for col in categorical_cols}\ncat_values",
      "metadata": {
        "trusted": true
      },
      "outputs": [],
      "execution_count": null
    },
    {
      "id": "afeae0c4-dc40-4487-8260-855d2b492fbe",
      "cell_type": "code",
      "source": "# Define the education hierarchy\neducation_order = [['Basic', '2n Cycle', 'Graduation', 'Master', 'PhD']]\n\n# Apply Ordinal Encoding to Education\nedu_encoder = OrdinalEncoder(categories=education_order)\ndf['Education_Encoded'] = edu_encoder.fit_transform(df[['Education']])\n\n# Apply One-Hot Encoding to Marital_Status and Country\ndf_encoded = pd.get_dummies(df, columns=['Marital_Status', 'Country'], drop_first=True)\n\n# Drop the original 'Education' column as we have encoded version\ndf_encoded.drop(columns=['Education'], inplace=True)\n\n# Display the columns after encoding\nencoded_columns = df_encoded.columns[df_encoded.columns.str.startswith(('Marital_Status_', 'Country_', 'Education_'))].tolist()\nencoded_columns\n",
      "metadata": {
        "trusted": true
      },
      "outputs": [],
      "execution_count": null
    },
    {
      "id": "8bde50e5-2528-42bb-a4fd-d539ecc38870",
      "cell_type": "code",
      "source": "# Compute correlation matrix on numerical variables\ncorr_matrix = df_encoded.corr(numeric_only=True)\n\n# Set up the matplotlib figure\nplt.figure(figsize=(16, 12))\n\n# Generate heatmap\nsns.heatmap(corr_matrix, cmap='coolwarm', annot=False, fmt=\".2f\", linewidths=0.5)\nplt.title(\"Correlation Heatmap of Numerical Features\", fontsize=16)\nplt.tight_layout()\nplt.show()\n",
      "metadata": {
        "trusted": true
      },
      "outputs": [],
      "execution_count": null
    },
    {
      "id": "cca80e43-6f6f-43ad-9c27-2fdf786cf5e1",
      "cell_type": "code",
      "source": "from scipy.stats import spearmanr\n\n# Hypothesis 1: Age vs Store Purchases (non-parametric test for correlation)\ncorr_age_store, p_value_age_store = spearmanr(df_encoded['Age'], df_encoded['NumStorePurchases'])\n\ncorr_age_store, p_value_age_store\n",
      "metadata": {
        "trusted": true
      },
      "outputs": [],
      "execution_count": null
    },
    {
      "id": "193cb6d1-8431-4c06-8e2e-f25663a26aab",
      "cell_type": "code",
      "source": "# Hypothesis 2: Total Children vs Web Purchases\ncorr_kids_web, p_value_kids_web = spearmanr(df_encoded['Total_Children'], df_encoded['NumWebPurchases'])\n\ncorr_kids_web, p_value_kids_web",
      "metadata": {
        "trusted": true
      },
      "outputs": [],
      "execution_count": null
    },
    {
      "id": "467167f2-23c8-440e-85ac-0e3751ad6ee5",
      "cell_type": "code",
      "source": "# Hypothesis 3: Channel cannibalization (correlation with store purchases)\ncorr_web_store, _ = spearmanr(df_encoded['NumWebPurchases'], df_encoded['NumStorePurchases'])\ncorr_catalog_store, _ = spearmanr(df_encoded['NumCatalogPurchases'], df_encoded['NumStorePurchases'])\n\ncorr_web_store, corr_catalog_store\n",
      "metadata": {
        "trusted": true
      },
      "outputs": [],
      "execution_count": null
    },
    {
      "id": "b5d4adc0-2b1b-410a-8949-b833f65caed0",
      "cell_type": "code",
      "source": "from scipy.stats import ttest_ind\n\n# Split data into US and non-US groups\nus_purchases = df_encoded[df_encoded['Country_US'] == 1]['Total_Purchases']\nnon_us_purchases = df_encoded[df_encoded['Country_US'] == 0]['Total_Purchases']\n\n# Perform independent t-test\nt_stat, p_value = ttest_ind(us_purchases, non_us_purchases, equal_var=False)\n\nus_purchases.mean(), non_us_purchases.mean(), t_stat, p_value\n",
      "metadata": {
        "trusted": true
      },
      "outputs": [],
      "execution_count": null
    },
    {
      "id": "b91c4036-56f6-488e-a63a-f1b04c9cc76f",
      "cell_type": "code",
      "source": "# Analyze product performance by total revenue from each category\nproduct_cols = ['MntWines', 'MntFruits', 'MntMeatProducts', \n                'MntFishProducts', 'MntSweetProducts', 'MntGoldProds']\n\nproduct_revenue = df_encoded[product_cols].sum().sort_values(ascending=False)\n\n# Plot product performance\nplt.figure(figsize=(10, 6))\nsns.barplot(x=product_revenue.values, y=product_revenue.index, palette='viridis')\nplt.title(\"💰 Product Performance by Total Revenue\")\nplt.xlabel(\"Total Revenue ($)\")\nplt.ylabel(\"Product Category\")\nplt.tight_layout()\nplt.show()\n\nproduct_revenue",
      "metadata": {
        "trusted": true
      },
      "outputs": [],
      "execution_count": null
    },
    {
      "id": "59870d7d-aa49-4b2e-ac25-a9ed60b66036",
      "cell_type": "code",
      "source": "# Plot age distribution against response to last campaign\nplt.figure(figsize=(10, 6))\nsns.boxplot(data=df_encoded, x='Response', y='Age', palette='Set2')\nplt.title(\"📈 Age vs Last Campaign Acceptance\")\nplt.xlabel(\"Accepted Last Campaign (0 = No, 1 = Yes)\")\nplt.ylabel(\"Customer Age\")\nplt.tight_layout()\nplt.show()\n\n# Compute mean age by response\ndf_encoded.groupby('Response')['Age'].mean()",
      "metadata": {
        "trusted": true
      },
      "outputs": [],
      "execution_count": null
    },
    {
      "id": "c4a21c80-1da2-4b28-ab61-24424917fa5a",
      "cell_type": "code",
      "source": "# Count of last campaign acceptance (Response == 1) by country\naccepted_by_country = df_encoded[df_encoded['Response'] == 1]['Country'].value_counts()\n\n# Plot\nplt.figure(figsize=(8, 5))\nsns.barplot(x=accepted_by_country.values, y=accepted_by_country.index, palette='mako')\nplt.title(\"🌍 Campaign Acceptance by Country\")\nplt.xlabel(\"Number of Acceptances\")\nplt.ylabel(\"Country\")\nplt.tight_layout()\nplt.show()\n\naccepted_by_country\n",
      "metadata": {
        "trusted": true
      },
      "outputs": [],
      "execution_count": null
    },
    {
      "id": "610ab182-dee6-4d70-a392-ba427e2afbc8",
      "cell_type": "code",
      "source": "# Reconstruct original Country column from one-hot encoded columns\ncountry_columns = [col for col in df_encoded.columns if col.startswith('Country_')]\ndf_encoded['Country'] = df_encoded[country_columns].idxmax(axis=1).str.replace('Country_', '')\n\n# Now compute campaign acceptance counts by country\naccepted_by_country = df_encoded[df_encoded['Response'] == 1]['Country'].value_counts()\n\n# Plot\nplt.figure(figsize=(8, 5))\nsns.barplot(x=accepted_by_country.values, y=accepted_by_country.index, palette='mako')\nplt.title(\"🌍 Campaign Acceptance by Country\")\nplt.xlabel(\"Number of Acceptances\")\nplt.ylabel(\"Country\")\nplt.tight_layout()\nplt.show()\n\naccepted_by_country\n",
      "metadata": {
        "trusted": true
      },
      "outputs": [],
      "execution_count": null
    },
    {
      "id": "66d9e2f3-dd14-4dd2-9600-d3b99976c5bf",
      "cell_type": "code",
      "source": "# Boxplot of Total Spending vs Number of Children\nplt.figure(figsize=(8, 5))\nsns.boxplot(x='Total_Children', y='Total_Spending', data=df_encoded, palette='coolwarm')\nplt.title(\"👶 Total Spending vs Number of Children at Home\")\nplt.xlabel(\"Number of Children at Home\")\nplt.ylabel(\"Total Spending ($)\")\nplt.tight_layout()\nplt.show()\n\n# Mean total spending by number of children\ndf_encoded.groupby('Total_Children')['Total_Spending'].mean()\n",
      "metadata": {
        "trusted": true
      },
      "outputs": [],
      "execution_count": null
    },
    {
      "id": "70dea9b0-4ec7-4bf6-b70a-ba2fe93e6a14",
      "cell_type": "code",
      "source": "# Filter customers who complained\ncomplainers = df_encoded[df_encoded['Complain'] == 1]\n\n# Reconstruct Education from encoded column\neducation_order = ['Basic', '2n Cycle', 'Graduation', 'Master', 'PhD']\ncomplainers['Education'] = complainers['Education_Encoded'].apply(lambda x: education_order[int(x)])\n\n# Count of complaints by education level\ncomplaints_by_edu = complainers['Education'].value_counts().sort_values(ascending=False)\n\n# Plot\nplt.figure(figsize=(8, 5))\nsns.barplot(x=complaints_by_edu.values, y=complaints_by_edu.index, palette='pastel')\nplt.title(\"📚 Complaints by Education Level\")\nplt.xlabel(\"Number of Complaints\")\nplt.ylabel(\"Education Level\")\nplt.tight_layout()\nplt.show()\n\ncomplaints_by_edu\n",
      "metadata": {
        "trusted": true
      },
      "outputs": [],
      "execution_count": null
    },
    {
      "id": "73078949-be77-459a-a53b-e52e482dd921",
      "cell_type": "code",
      "source": "",
      "metadata": {
        "trusted": true
      },
      "outputs": [],
      "execution_count": null
    }
  ]
}